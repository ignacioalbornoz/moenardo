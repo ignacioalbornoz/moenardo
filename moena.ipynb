{
 "cells": [
  {
   "cell_type": "code",
   "execution_count": 1,
   "metadata": {},
   "outputs": [
    {
     "name": "stderr",
     "output_type": "stream",
     "text": [
      "100%|██████████| 39193/39193 [00:02<00:00, 17857.51it/s]\n"
     ]
    },
    {
     "name": "stdout",
     "output_type": "stream",
     "text": [
      "Se encontraron 3777 elementos con las mismas coordenadas.\n",
      "Se actualizaron 22662 propiedades.\n"
     ]
    }
   ],
   "source": [
    "import json\n",
    "import copy\n",
    "from geopy import distance\n",
    "from tqdm import tqdm\n",
    "from rtree import index\n",
    "from multiprocessing import Pool, cpu_count\n",
    "\n",
    "# Ubicación de los archivos\n",
    "file1 = './geojsons/TORRES_FINAL_PRUEBA.geojson'\n",
    "file2 = './geojsons/TORRES_500KV_19S_PRUEBA_CODIGO.geojson'  # Reemplaza con la ruta a tu segundo archivo\n",
    "\n",
    "# Abre y lee los archivos GeoJSON\n",
    "with open(file1) as f:\n",
    "    data1 = json.load(f)\n",
    "with open(file2) as f:\n",
    "    data2 = json.load(f)\n",
    "\n",
    "# Inicializa los contadores\n",
    "contador_elementos = 0\n",
    "contador_propiedades = 0\n",
    "\n",
    "# Crea una copia profunda de data1\n",
    "data1_copy = copy.deepcopy(data1)\n",
    "\n",
    "# Crear un índice espacial para data2\n",
    "idx = index.Index()\n",
    "feature_dict = {}\n",
    "for pos, feature in enumerate(data2['features']):\n",
    "    coords = feature['geometry']['coordinates']\n",
    "    feature_dict[pos] = feature\n",
    "    idx.insert(pos, (*coords, *coords))\n",
    "\n",
    "# Función para procesar cada feature1\n",
    "def process_feature(feature1):\n",
    "    global contador_elementos, contador_propiedades\n",
    "\n",
    "    tension = feature1['properties'].get('Tensión')\n",
    "    if tension != '500kV':\n",
    "        return feature1, 0, 0\n",
    "    \n",
    "    f1_coords = feature1['geometry']['coordinates']\n",
    "    \n",
    "    # Encontrar los elementos cercanos usando el índice espacial\n",
    "    nearby_elements = list(idx.nearest((*f1_coords, *f1_coords), 10))\n",
    "    \n",
    "    for pos in nearby_elements:\n",
    "        feature2 = feature_dict[pos]\n",
    "        f2_coords = feature2['geometry']['coordinates']\n",
    "        \n",
    "        dist = distance.distance(f1_coords, f2_coords).m\n",
    "        \n",
    "        if dist < 15:\n",
    "            # Guarda la propiedad \"Tensión\" de feature1\n",
    "            tension = feature1['properties'].get('Tensión')\n",
    "            # Actualiza las propiedades\n",
    "            feature1['properties'] = feature2['properties']\n",
    "            # Restaura la propiedad \"Tensión\" de feature1\n",
    "            if tension is not None:\n",
    "                feature1['properties']['Tensión'] = tension\n",
    "            # Incrementa los contadores\n",
    "            return feature1, 1, len(feature2['properties'])\n",
    "    return feature1, 0, 0\n",
    "\n",
    "# Usar multiprocessing para paralelizar el procesamiento\n",
    "with Pool(cpu_count()) as pool:\n",
    "    results = list(tqdm(pool.imap(process_feature, data1_copy['features']), total=len(data1_copy['features'])))\n",
    "\n",
    "# Actualizar data1_copy y los contadores\n",
    "for i, (updated_feature, elem_count, prop_count) in enumerate(results):\n",
    "    data1_copy['features'][i] = updated_feature\n",
    "    contador_elementos += elem_count\n",
    "    contador_propiedades += prop_count\n",
    "\n",
    "# Guarda la copia de data1 con las propiedades actualizadas\n",
    "output_file = './geojsons/TORRES_FINAL_PRUEBA_ACTUALIZADO.geojson'  # Reemplaza con la ruta a tu archivo de salida\n",
    "with open(output_file, 'w') as f:\n",
    "    json.dump(data1_copy, f, ensure_ascii=False, indent=4)\n",
    "\n",
    "# Imprime los contadores\n",
    "print(f'Se encontraron {contador_elementos} elementos con las mismas coordenadas.')\n",
    "print(f'Se actualizaron {contador_propiedades} propiedades.')\n"
   ]
  }
 ],
 "metadata": {
  "kernelspec": {
   "display_name": "moena",
   "language": "python",
   "name": "python3"
  },
  "language_info": {
   "codemirror_mode": {
    "name": "ipython",
    "version": 3
   },
   "file_extension": ".py",
   "mimetype": "text/x-python",
   "name": "python",
   "nbconvert_exporter": "python",
   "pygments_lexer": "ipython3",
   "version": "3.1.-1"
  }
 },
 "nbformat": 4,
 "nbformat_minor": 2
}
